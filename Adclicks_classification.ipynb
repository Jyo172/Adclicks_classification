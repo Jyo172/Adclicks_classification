{
  "nbformat": 4,
  "nbformat_minor": 0,
  "metadata": {
    "colab": {
      "name": "Adclicks_classification.ipynb",
      "version": "0.3.2",
      "provenance": [],
      "include_colab_link": true
    },
    "kernelspec": {
      "name": "python3",
      "display_name": "Python 3"
    }
  },
  "cells": [
    {
      "cell_type": "markdown",
      "metadata": {
        "id": "view-in-github",
        "colab_type": "text"
      },
      "source": [
        "<a href=\"https://colab.research.google.com/github/Jyo172/New-Rep/blob/master/Adclicks_classification.ipynb\" target=\"_parent\"><img src=\"https://colab.research.google.com/assets/colab-badge.svg\" alt=\"Open In Colab\"/></a>"
      ]
    },
    {
      "cell_type": "code",
      "metadata": {
        "id": "ViEpGTqyCDu4",
        "colab_type": "code",
        "outputId": "48e1113c-9732-49a1-eab3-aa88cf1c2dc3",
        "colab": {
          "base_uri": "https://localhost:8080/",
          "height": 34
        }
      },
      "source": [
        "from google.colab import files, drive\n",
        "drive.mount('gdrive', force_remount=True)"
      ],
      "execution_count": 1,
      "outputs": [
        {
          "output_type": "stream",
          "text": [
            "Mounted at gdrive\n"
          ],
          "name": "stdout"
        }
      ]
    },
    {
      "cell_type": "code",
      "metadata": {
        "id": "-XXXNlYzCt2d",
        "colab_type": "code",
        "outputId": "a6ed6f0e-3e33-4b89-e103-b9a88b52afa6",
        "colab": {
          "base_uri": "https://localhost:8080/",
          "height": 134
        }
      },
      "source": [
        "!cp 'gdrive/My Drive/ad_clicks.zip' .\n",
        "!unzip ad_clicks.zip"
      ],
      "execution_count": 2,
      "outputs": [
        {
          "output_type": "stream",
          "text": [
            "Archive:  ad_clicks.zip\n",
            "replace sample_submission.csv? [y]es, [n]o, [A]ll, [N]one, [r]ename: y\n",
            "  inflating: sample_submission.csv   \n",
            "replace test.csv? [y]es, [n]o, [A]ll, [N]one, [r]ename: y\n",
            "  inflating: test.csv                \n",
            "replace train.csv? [y]es, [n]o, [A]ll, [N]one, [r]ename: y\n",
            "  inflating: train.csv               \n"
          ],
          "name": "stdout"
        }
      ]
    },
    {
      "cell_type": "code",
      "metadata": {
        "id": "Q__tSEo_DC3h",
        "colab_type": "code",
        "colab": {}
      },
      "source": [
        "import pandas as pd\n",
        "import numpy as np\n",
        "import matplotlib.pyplot as plt\n",
        "import seaborn as sns\n",
        "%matplotlib inline\n",
        "from sklearn.model_selection import train_test_split\n",
        "from sklearn.linear_model import LogisticRegression\n",
        "from datetime import *\n",
        "from sklearn.feature_selection import SelectKBest,f_classif\n",
        "from sklearn.preprocessing import MinMaxScaler\n",
        "from sklearn.metrics import accuracy_score,f1_score,precision_score,recall_score,roc_auc_score,classification_report\n",
        "from sklearn.ensemble import RandomForestClassifier\n",
        "from xgboost import XGBClassifier"
      ],
      "execution_count": 0,
      "outputs": []
    },
    {
      "cell_type": "code",
      "metadata": {
        "id": "QU0gUlU-DxYh",
        "colab_type": "code",
        "colab": {}
      },
      "source": [
        "import warnings\n",
        "warnings.filterwarnings(\"ignore\")"
      ],
      "execution_count": 0,
      "outputs": []
    },
    {
      "cell_type": "code",
      "metadata": {
        "id": "cYD5fR4uD23a",
        "colab_type": "code",
        "colab": {}
      },
      "source": [
        "train_df = pd.read_csv('train.csv')"
      ],
      "execution_count": 0,
      "outputs": []
    },
    {
      "cell_type": "code",
      "metadata": {
        "id": "zHV9ulnDD9UC",
        "colab_type": "code",
        "outputId": "3d8cef01-47e5-4092-eaec-a0dc57f7e373",
        "colab": {
          "base_uri": "https://localhost:8080/",
          "height": 34
        }
      },
      "source": [
        "train_df.shape"
      ],
      "execution_count": 6,
      "outputs": [
        {
          "output_type": "execute_result",
          "data": {
            "text/plain": [
              "(12137810, 10)"
            ]
          },
          "metadata": {
            "tags": []
          },
          "execution_count": 6
        }
      ]
    },
    {
      "cell_type": "code",
      "metadata": {
        "id": "2pXurYZsEJD6",
        "colab_type": "code",
        "outputId": "baf8952d-d323-4cdd-bed1-18a6cba37174",
        "colab": {
          "base_uri": "https://localhost:8080/",
          "height": 195
        }
      },
      "source": [
        "#Since the data is huge in size,10% of the data is sampled\n",
        "sample_df = train_df.sample(frac=0.1, random_state = 42)\n",
        "sample_df.head()"
      ],
      "execution_count": 7,
      "outputs": [
        {
          "output_type": "execute_result",
          "data": {
            "text/html": [
              "<div>\n",
              "<style scoped>\n",
              "    .dataframe tbody tr th:only-of-type {\n",
              "        vertical-align: middle;\n",
              "    }\n",
              "\n",
              "    .dataframe tbody tr th {\n",
              "        vertical-align: top;\n",
              "    }\n",
              "\n",
              "    .dataframe thead th {\n",
              "        text-align: right;\n",
              "    }\n",
              "</style>\n",
              "<table border=\"1\" class=\"dataframe\">\n",
              "  <thead>\n",
              "    <tr style=\"text-align: right;\">\n",
              "      <th></th>\n",
              "      <th>ID</th>\n",
              "      <th>datetime</th>\n",
              "      <th>siteid</th>\n",
              "      <th>offerid</th>\n",
              "      <th>category</th>\n",
              "      <th>merchant</th>\n",
              "      <th>countrycode</th>\n",
              "      <th>browserid</th>\n",
              "      <th>devid</th>\n",
              "      <th>click</th>\n",
              "    </tr>\n",
              "  </thead>\n",
              "  <tbody>\n",
              "    <tr>\n",
              "      <th>5236822</th>\n",
              "      <td>IDybLltC5</td>\n",
              "      <td>2017-01-11 10:18:32</td>\n",
              "      <td>9759547.0</td>\n",
              "      <td>525348</td>\n",
              "      <td>42227</td>\n",
              "      <td>21153737</td>\n",
              "      <td>a</td>\n",
              "      <td>NaN</td>\n",
              "      <td>Desktop</td>\n",
              "      <td>0</td>\n",
              "    </tr>\n",
              "    <tr>\n",
              "      <th>10696411</th>\n",
              "      <td>ID9MnifkN</td>\n",
              "      <td>2017-01-16 08:32:07</td>\n",
              "      <td>NaN</td>\n",
              "      <td>921107</td>\n",
              "      <td>904</td>\n",
              "      <td>58604466</td>\n",
              "      <td>b</td>\n",
              "      <td>Edge</td>\n",
              "      <td>Tablet</td>\n",
              "      <td>0</td>\n",
              "    </tr>\n",
              "    <tr>\n",
              "      <th>1823835</th>\n",
              "      <td>IDYcLRLqB</td>\n",
              "      <td>2017-01-12 10:35:50</td>\n",
              "      <td>7974132.0</td>\n",
              "      <td>707989</td>\n",
              "      <td>42227</td>\n",
              "      <td>1436904</td>\n",
              "      <td>a</td>\n",
              "      <td>Edge</td>\n",
              "      <td>Tablet</td>\n",
              "      <td>0</td>\n",
              "    </tr>\n",
              "    <tr>\n",
              "      <th>3295561</th>\n",
              "      <td>ID7tTKae3</td>\n",
              "      <td>2017-01-14 07:08:56</td>\n",
              "      <td>7614195.0</td>\n",
              "      <td>216666</td>\n",
              "      <td>42227</td>\n",
              "      <td>43770446</td>\n",
              "      <td>a</td>\n",
              "      <td>Mozilla</td>\n",
              "      <td>Desktop</td>\n",
              "      <td>0</td>\n",
              "    </tr>\n",
              "    <tr>\n",
              "      <th>6584561</th>\n",
              "      <td>IDfP3DBd0</td>\n",
              "      <td>2017-01-12 07:43:49</td>\n",
              "      <td>3428619.0</td>\n",
              "      <td>564123</td>\n",
              "      <td>50088</td>\n",
              "      <td>57977218</td>\n",
              "      <td>d</td>\n",
              "      <td>Firefox</td>\n",
              "      <td>Mobile</td>\n",
              "      <td>0</td>\n",
              "    </tr>\n",
              "  </tbody>\n",
              "</table>\n",
              "</div>"
            ],
            "text/plain": [
              "                 ID             datetime     siteid  ...  browserid    devid  click\n",
              "5236822   IDybLltC5  2017-01-11 10:18:32  9759547.0  ...        NaN  Desktop      0\n",
              "10696411  ID9MnifkN  2017-01-16 08:32:07        NaN  ...       Edge   Tablet      0\n",
              "1823835   IDYcLRLqB  2017-01-12 10:35:50  7974132.0  ...       Edge   Tablet      0\n",
              "3295561   ID7tTKae3  2017-01-14 07:08:56  7614195.0  ...    Mozilla  Desktop      0\n",
              "6584561   IDfP3DBd0  2017-01-12 07:43:49  3428619.0  ...    Firefox   Mobile      0\n",
              "\n",
              "[5 rows x 10 columns]"
            ]
          },
          "metadata": {
            "tags": []
          },
          "execution_count": 7
        }
      ]
    },
    {
      "cell_type": "code",
      "metadata": {
        "id": "Bf1t7imTEhmF",
        "colab_type": "code",
        "outputId": "8632f0a8-54e4-475f-f7a4-599892d84de3",
        "colab": {
          "base_uri": "https://localhost:8080/",
          "height": 34
        }
      },
      "source": [
        "sample_df.shape"
      ],
      "execution_count": 8,
      "outputs": [
        {
          "output_type": "execute_result",
          "data": {
            "text/plain": [
              "(1213781, 10)"
            ]
          },
          "metadata": {
            "tags": []
          },
          "execution_count": 8
        }
      ]
    },
    {
      "cell_type": "code",
      "metadata": {
        "id": "yj6JQtu4EpY3",
        "colab_type": "code",
        "outputId": "5fef2f30-b095-464c-ee39-67ba9cb1497a",
        "colab": {
          "base_uri": "https://localhost:8080/",
          "height": 269
        }
      },
      "source": [
        "sample_df.info()"
      ],
      "execution_count": 9,
      "outputs": [
        {
          "output_type": "stream",
          "text": [
            "<class 'pandas.core.frame.DataFrame'>\n",
            "Int64Index: 1213781 entries, 5236822 to 9230606\n",
            "Data columns (total 10 columns):\n",
            "ID             1213781 non-null object\n",
            "datetime       1213781 non-null object\n",
            "siteid         1092678 non-null float64\n",
            "offerid        1213781 non-null int64\n",
            "category       1213781 non-null int64\n",
            "merchant       1213781 non-null int64\n",
            "countrycode    1213781 non-null object\n",
            "browserid      1152641 non-null object\n",
            "devid          1031895 non-null object\n",
            "click          1213781 non-null int64\n",
            "dtypes: float64(1), int64(4), object(5)\n",
            "memory usage: 101.9+ MB\n"
          ],
          "name": "stdout"
        }
      ]
    },
    {
      "cell_type": "code",
      "metadata": {
        "id": "ACMUDjvEE7B7",
        "colab_type": "code",
        "outputId": "38dfb2b6-2d41-4e8b-e98b-734c9005c964",
        "colab": {
          "base_uri": "https://localhost:8080/",
          "height": 343
        }
      },
      "source": [
        "#We have to deal with categorical variables and missing values\n",
        "total = sample_df.isnull().sum(axis=0).sort_values(ascending=False)\n",
        "percent = ((sample_df.isnull().sum(axis=0)/sample_df.isnull().count(axis=0))*100).sort_values(ascending=False)\n",
        "missing_data_columns = pd.concat([total, percent], axis=1, keys=['Total', 'Percent'])\n",
        "missing_data_columns.head(10)"
      ],
      "execution_count": 10,
      "outputs": [
        {
          "output_type": "execute_result",
          "data": {
            "text/html": [
              "<div>\n",
              "<style scoped>\n",
              "    .dataframe tbody tr th:only-of-type {\n",
              "        vertical-align: middle;\n",
              "    }\n",
              "\n",
              "    .dataframe tbody tr th {\n",
              "        vertical-align: top;\n",
              "    }\n",
              "\n",
              "    .dataframe thead th {\n",
              "        text-align: right;\n",
              "    }\n",
              "</style>\n",
              "<table border=\"1\" class=\"dataframe\">\n",
              "  <thead>\n",
              "    <tr style=\"text-align: right;\">\n",
              "      <th></th>\n",
              "      <th>Total</th>\n",
              "      <th>Percent</th>\n",
              "    </tr>\n",
              "  </thead>\n",
              "  <tbody>\n",
              "    <tr>\n",
              "      <th>devid</th>\n",
              "      <td>181886</td>\n",
              "      <td>14.985076</td>\n",
              "    </tr>\n",
              "    <tr>\n",
              "      <th>siteid</th>\n",
              "      <td>121103</td>\n",
              "      <td>9.977335</td>\n",
              "    </tr>\n",
              "    <tr>\n",
              "      <th>browserid</th>\n",
              "      <td>61140</td>\n",
              "      <td>5.037153</td>\n",
              "    </tr>\n",
              "    <tr>\n",
              "      <th>click</th>\n",
              "      <td>0</td>\n",
              "      <td>0.000000</td>\n",
              "    </tr>\n",
              "    <tr>\n",
              "      <th>countrycode</th>\n",
              "      <td>0</td>\n",
              "      <td>0.000000</td>\n",
              "    </tr>\n",
              "    <tr>\n",
              "      <th>merchant</th>\n",
              "      <td>0</td>\n",
              "      <td>0.000000</td>\n",
              "    </tr>\n",
              "    <tr>\n",
              "      <th>category</th>\n",
              "      <td>0</td>\n",
              "      <td>0.000000</td>\n",
              "    </tr>\n",
              "    <tr>\n",
              "      <th>offerid</th>\n",
              "      <td>0</td>\n",
              "      <td>0.000000</td>\n",
              "    </tr>\n",
              "    <tr>\n",
              "      <th>datetime</th>\n",
              "      <td>0</td>\n",
              "      <td>0.000000</td>\n",
              "    </tr>\n",
              "    <tr>\n",
              "      <th>ID</th>\n",
              "      <td>0</td>\n",
              "      <td>0.000000</td>\n",
              "    </tr>\n",
              "  </tbody>\n",
              "</table>\n",
              "</div>"
            ],
            "text/plain": [
              "              Total    Percent\n",
              "devid        181886  14.985076\n",
              "siteid       121103   9.977335\n",
              "browserid     61140   5.037153\n",
              "click             0   0.000000\n",
              "countrycode       0   0.000000\n",
              "merchant          0   0.000000\n",
              "category          0   0.000000\n",
              "offerid           0   0.000000\n",
              "datetime          0   0.000000\n",
              "ID                0   0.000000"
            ]
          },
          "metadata": {
            "tags": []
          },
          "execution_count": 10
        }
      ]
    },
    {
      "cell_type": "code",
      "metadata": {
        "id": "eD4bJF2sFeTQ",
        "colab_type": "code",
        "colab": {}
      },
      "source": [
        "#since percentage is not large we can fill Nan with mode values\n",
        "sample_df['siteid'].fillna(train_df['siteid'].mode()[0],inplace=True)\n",
        "sample_df['browserid'].fillna(train_df['browserid'].mode()[0],inplace=True)\n",
        "sample_df['devid'].fillna(train_df['devid'].mode()[0],inplace=True)"
      ],
      "execution_count": 0,
      "outputs": []
    },
    {
      "cell_type": "code",
      "metadata": {
        "id": "BCzpXiPjG1Fm",
        "colab_type": "code",
        "colab": {}
      },
      "source": [
        "#working with datetime column;extracting date,day and hour\n",
        "def hr_func(ts):\n",
        "  return ts.hour\n",
        "sample_df['datetime']=pd.to_datetime(sample_df['datetime'])\n",
        "sample_df['date'] = sample_df['datetime'].dt.date\n",
        "dic={'2017-01-10':'Tues','2017-01-11':'Wed','2017-01-12':'Thrus','2017-01-13':'Fri','2017-01-14':'Sat','2017-01-15':'Sun','2017-01-16':'Mon','2017-01-17':'Tues','2017-01-18':'Wed','2017-01-19':'Thrus','2017-01-20':'Fri'}\n",
        "sample_df['day']=sample_df['date'].astype(str).map(dic)\n",
        "sample_df['hour']=sample_df['datetime'].apply(hr_func)"
      ],
      "execution_count": 0,
      "outputs": []
    },
    {
      "cell_type": "code",
      "metadata": {
        "id": "m9Retl1kHmKt",
        "colab_type": "code",
        "outputId": "98d0c25a-471f-4313-b23c-61e67d4fc909",
        "colab": {
          "base_uri": "https://localhost:8080/",
          "height": 300
        }
      },
      "source": [
        "#looking at the target:click infering that there's high class imbalance\n",
        "sns.countplot(sample_df['click'])"
      ],
      "execution_count": 13,
      "outputs": [
        {
          "output_type": "execute_result",
          "data": {
            "text/plain": [
              "<matplotlib.axes._subplots.AxesSubplot at 0x7f929de53c50>"
            ]
          },
          "metadata": {
            "tags": []
          },
          "execution_count": 13
        },
        {
          "output_type": "display_data",
          "data": {
            "image/png": "[encoded data removed]",
            "text/plain": [
              "<Figure size 432x288 with 1 Axes>"
            ]
          },
          "metadata": {
            "tags": []
          }
        }
      ]
    },
    {
      "cell_type": "code",
      "metadata": {
        "id": "cqa5L-nTI_pL",
        "colab_type": "code",
        "outputId": "a2875bbb-9925-465e-852b-09c0aac2271e",
        "colab": {
          "base_uri": "https://localhost:8080/",
          "height": 602
        }
      },
      "source": [
        "# analysis of browserid,it is observed that some of the categories are repeated\n",
        "brcl=pd.crosstab(sample_df['browserid'],sample_df['click'])\n",
        "brcl.plot(kind=\"bar\",figsize=(8,8),stacked=True)\n",
        "plt.title('Dependency of browserid with Target', fontsize = 10)"
      ],
      "execution_count": 14,
      "outputs": [
        {
          "output_type": "execute_result",
          "data": {
            "text/plain": [
              "Text(0.5, 1.0, 'Dependency of browserid with Target')"
            ]
          },
          "metadata": {
            "tags": []
          },
          "execution_count": 14
        },
        {
          "output_type": "display_data",
          "data": {
            "image/png": "[encoded data removed]",
            "text/plain": [
              "<Figure size 576x576 with 1 Axes>"
            ]
          },
          "metadata": {
            "tags": []
          }
        }
      ]
    },
    {
      "cell_type": "code",
      "metadata": {
        "id": "VHPw77vNK104",
        "colab_type": "code",
        "outputId": "db8672d2-955e-4708-8dc6-0bd8625d2d80",
        "colab": {
          "base_uri": "https://localhost:8080/",
          "height": 134
        }
      },
      "source": [
        "#Removing redundant info\n",
        "c = {'Internet Explorer':\"IntEx\", 'IE':\"IntEx\", 'InternetExplorer':\"IntEx\", 'Chrome': \"GoogC\", 'Google Chrome': \"GoogC\",'Mozilla Firefox':\"MF\", 'Mozilla': \"MF\", 'Firefox': \"MF\", 'Opera': \"Opera\", 'Safari':\"Safari\", 'Edge':\"Edge\"}\n",
        "sample_df['browserid_1']=sample_df['browserid'].map(c)\n",
        "sample_df['browserid_1'].value_counts()"
      ],
      "execution_count": 15,
      "outputs": [
        {
          "output_type": "execute_result",
          "data": {
            "text/plain": [
              "MF        547008\n",
              "Edge      406994\n",
              "IntEx     132330\n",
              "GoogC     104615\n",
              "Safari     11439\n",
              "Opera      11395\n",
              "Name: browserid_1, dtype: int64"
            ]
          },
          "metadata": {
            "tags": []
          },
          "execution_count": 15
        }
      ]
    },
    {
      "cell_type": "code",
      "metadata": {
        "id": "YBJ7JyyFOeHo",
        "colab_type": "code",
        "outputId": "a69e3252-23bf-47f0-df64-814af229dd1a",
        "colab": {
          "base_uri": "https://localhost:8080/",
          "height": 334
        }
      },
      "source": [
        "#understanding the relationships between different features since the target class is unbalanced\n",
        "#browserid and devid;it is observed that Opera is displayed on only one device and Mobile is used for all browserids\n",
        "bd=pd.crosstab(sample_df['browserid_1'],sample_df['devid'])\n",
        "bd.plot(kind=\"bar\",stacked=True)\n",
        "plt.title('Browserid and devid', fontsize = 10)"
      ],
      "execution_count": 16,
      "outputs": [
        {
          "output_type": "execute_result",
          "data": {
            "text/plain": [
              "Text(0.5, 1.0, 'Browserid and devid')"
            ]
          },
          "metadata": {
            "tags": []
          },
          "execution_count": 16
        },
        {
          "output_type": "display_data",
          "data": {
            "image/png": "[encoded data removed]",
            "text/plain": [
              "<Figure size 432x288 with 1 Axes>"
            ]
          },
          "metadata": {
            "tags": []
          }
        }
      ]
    },
    {
      "cell_type": "code",
      "metadata": {
        "id": "or-29GdlPWKs",
        "colab_type": "code",
        "outputId": "f0b69332-0127-4bef-e46c-9fccaf7bca76",
        "colab": {
          "base_uri": "https://localhost:8080/",
          "height": 334
        }
      },
      "source": [
        "#Relationship between countrycode and browserid\n",
        "bd=pd.crosstab(sample_df['browserid_1'],sample_df['countrycode'])\n",
        "bd.plot(kind=\"bar\",stacked=True)\n",
        "plt.title('Browserid and countrycode', fontsize = 10)"
      ],
      "execution_count": 17,
      "outputs": [
        {
          "output_type": "execute_result",
          "data": {
            "text/plain": [
              "Text(0.5, 1.0, 'Browserid and countrycode')"
            ]
          },
          "metadata": {
            "tags": []
          },
          "execution_count": 17
        },
        {
          "output_type": "display_data",
          "data": {
            "image/png": "[encoded data removed]",
            "text/plain": [
              "<Figure size 432x288 with 1 Axes>"
            ]
          },
          "metadata": {
            "tags": []
          }
        }
      ]
    },
    {
      "cell_type": "code",
      "metadata": {
        "id": "RgJu2-u_Ty8T",
        "colab_type": "code",
        "outputId": "0d05abf6-bbc1-4702-b90d-91c4557c472f",
        "colab": {
          "base_uri": "https://localhost:8080/",
          "height": 334
        }
      },
      "source": [
        "#checking no of clicks according to the days in the week keeping in mind that data contains tues wed thurs fri twice\n",
        "dcl=pd.crosstab(sample_df['day'],sample_df[sample_df.click==1]['click'])\n",
        "dcl.plot(kind=\"bar\",stacked=True)\n",
        "plt.title('Dependency of browserid with Target', fontsize = 20)"
      ],
      "execution_count": 18,
      "outputs": [
        {
          "output_type": "execute_result",
          "data": {
            "text/plain": [
              "Text(0.5, 1.0, 'Dependency of browserid with Target')"
            ]
          },
          "metadata": {
            "tags": []
          },
          "execution_count": 18
        },
        {
          "output_type": "display_data",
          "data": {
            "image/png": "[encoded data removed]",
            "text/plain": [
              "<Figure size 432x288 with 1 Axes>"
            ]
          },
          "metadata": {
            "tags": []
          }
        }
      ]
    },
    {
      "cell_type": "code",
      "metadata": {
        "id": "XNKp77-3QjUm",
        "colab_type": "code",
        "colab": {}
      },
      "source": [
        "#Encoding categorical variables using mean encoding as class is unbalanced\n",
        "sample_df['browserid_encode'] = sample_df['browserid_1'].map(sample_df.groupby('browserid_1')['click'].mean())\n",
        "sample_df['devid_encode']=sample_df['devid'].map(sample_df.groupby('devid')['click'].mean())\n",
        "sample_df['countrycode_encode']=sample_df['countrycode'].map(sample_df.groupby('countrycode')['click'].mean())\n",
        "sample_df['day_encode']=sample_df['day'].map(sample_df.groupby('day')['click'].mean())"
      ],
      "execution_count": 0,
      "outputs": []
    },
    {
      "cell_type": "code",
      "metadata": {
        "id": "EHvqHKzdajSD",
        "colab_type": "code",
        "colab": {}
      },
      "source": [
        "#Feature Engineering\n",
        "#combining devid and browserid and encoding\n",
        "sample_df['dev_bro']=sample_df['devid'].astype('str')+sample_df['browserid'].astype('str')\n",
        "sample_df['dev_bro_encode']=sample_df['dev_bro'].map(sample_df.groupby('dev_bro')['click'].mean())\n",
        "#combining site,offer,category,devid,browserid\n",
        "sample_df['site_offer']=sample_df['siteid']+sample_df['offerid']\n",
        "sample_df['offer_cat']=sample_df['offerid']+sample_df['category']\n",
        "sample_df['site_offer_hour']=sample_df['site_offer']+sample_df['hour']\n",
        "sample_df['site_offer_dev_bro']=sample_df['site_offer']+sample_df['dev_bro_encode']\n",
        "sample_df['site_offer_day']=sample_df['site_offer']+sample_df['day_encode']"
      ],
      "execution_count": 0,
      "outputs": []
    },
    {
      "cell_type": "code",
      "metadata": {
        "id": "EIt1wVf6bKVY",
        "colab_type": "code",
        "colab": {}
      },
      "source": [
        "#splitting data into train and test\n",
        "y=sample_df.click\n",
        "X=sample_df.drop('click',axis=1)\n",
        "X_train,X_test,y_train,y_test=train_test_split(X,y,test_size=0.3,random_state=42)"
      ],
      "execution_count": 0,
      "outputs": []
    },
    {
      "cell_type": "code",
      "metadata": {
        "id": "5M1Jzf2kbaOQ",
        "colab_type": "code",
        "outputId": "c478a93d-9eed-45db-ae0a-774565868120",
        "colab": {
          "base_uri": "https://localhost:8080/",
          "height": 173
        }
      },
      "source": [
        "#checking feature importances\n",
        "num_cols=list(X_train._get_numeric_data().columns)\n",
        "fvalue_selector = SelectKBest(f_classif, k='all')\n",
        "f_value=fvalue_selector.fit(X_train[num_cols],y_train)\n",
        "feature=pd.DataFrame([num_cols,f_value.scores_,f_value.pvalues_])#columns:features,1st row:f_values,2nd row:p_values\n",
        "feature"
      ],
      "execution_count": 22,
      "outputs": [
        {
          "output_type": "execute_result",
          "data": {
            "text/html": [
              "<div>\n",
              "<style scoped>\n",
              "    .dataframe tbody tr th:only-of-type {\n",
              "        vertical-align: middle;\n",
              "    }\n",
              "\n",
              "    .dataframe tbody tr th {\n",
              "        vertical-align: top;\n",
              "    }\n",
              "\n",
              "    .dataframe thead th {\n",
              "        text-align: right;\n",
              "    }\n",
              "</style>\n",
              "<table border=\"1\" class=\"dataframe\">\n",
              "  <thead>\n",
              "    <tr style=\"text-align: right;\">\n",
              "      <th></th>\n",
              "      <th>0</th>\n",
              "      <th>1</th>\n",
              "      <th>2</th>\n",
              "      <th>3</th>\n",
              "      <th>4</th>\n",
              "      <th>5</th>\n",
              "      <th>6</th>\n",
              "      <th>7</th>\n",
              "      <th>8</th>\n",
              "      <th>9</th>\n",
              "      <th>10</th>\n",
              "      <th>11</th>\n",
              "      <th>12</th>\n",
              "      <th>13</th>\n",
              "      <th>14</th>\n",
              "    </tr>\n",
              "  </thead>\n",
              "  <tbody>\n",
              "    <tr>\n",
              "      <th>0</th>\n",
              "      <td>siteid</td>\n",
              "      <td>offerid</td>\n",
              "      <td>category</td>\n",
              "      <td>merchant</td>\n",
              "      <td>hour</td>\n",
              "      <td>browserid_encode</td>\n",
              "      <td>devid_encode</td>\n",
              "      <td>countrycode_encode</td>\n",
              "      <td>day_encode</td>\n",
              "      <td>dev_bro_encode</td>\n",
              "      <td>site_offer</td>\n",
              "      <td>offer_cat</td>\n",
              "      <td>site_offer_hour</td>\n",
              "      <td>site_offer_dev_bro</td>\n",
              "      <td>site_offer_day</td>\n",
              "    </tr>\n",
              "    <tr>\n",
              "      <th>1</th>\n",
              "      <td>0.0272441</td>\n",
              "      <td>4.35194</td>\n",
              "      <td>23.4816</td>\n",
              "      <td>319.999</td>\n",
              "      <td>2906.83</td>\n",
              "      <td>91864.5</td>\n",
              "      <td>12197.4</td>\n",
              "      <td>167162</td>\n",
              "      <td>312.55</td>\n",
              "      <td>151070</td>\n",
              "      <td>0.00136226</td>\n",
              "      <td>2.51316</td>\n",
              "      <td>0.0013674</td>\n",
              "      <td>0.0013629</td>\n",
              "      <td>0.00136227</td>\n",
              "    </tr>\n",
              "    <tr>\n",
              "      <th>2</th>\n",
              "      <td>0.868898</td>\n",
              "      <td>0.0369671</td>\n",
              "      <td>1.26135e-06</td>\n",
              "      <td>1.49398e-71</td>\n",
              "      <td>0</td>\n",
              "      <td>0</td>\n",
              "      <td>0</td>\n",
              "      <td>0</td>\n",
              "      <td>6.25489e-70</td>\n",
              "      <td>0</td>\n",
              "      <td>0.970558</td>\n",
              "      <td>0.1129</td>\n",
              "      <td>0.970502</td>\n",
              "      <td>0.970551</td>\n",
              "      <td>0.970558</td>\n",
              "    </tr>\n",
              "  </tbody>\n",
              "</table>\n",
              "</div>"
            ],
            "text/plain": [
              "          0          1   ...                  13              14\n",
              "0     siteid    offerid  ...  site_offer_dev_bro  site_offer_day\n",
              "1  0.0272441    4.35194  ...           0.0013629      0.00136227\n",
              "2   0.868898  0.0369671  ...            0.970551        0.970558\n",
              "\n",
              "[3 rows x 15 columns]"
            ]
          },
          "metadata": {
            "tags": []
          },
          "execution_count": 22
        }
      ]
    },
    {
      "cell_type": "code",
      "metadata": {
        "id": "RKQXd7SvbiXg",
        "colab_type": "code",
        "outputId": "de8cd1e4-b65d-426d-edbb-0cfff6c3dbab",
        "colab": {
          "base_uri": "https://localhost:8080/",
          "height": 195
        }
      },
      "source": [
        "#Listing the variables with significant p_values\n",
        "list=['category', 'merchant','browserid_encode', 'devid_encode','countrycode_encode', 'day_encode', 'hour','dev_bro_encode']\n",
        "#function for displaying various metrics\n",
        "def params(yt,yp):\n",
        "  print('Accuracy:',accuracy_score(yt,yp))\n",
        "  print('F1score:',f1_score(yt,yp))\n",
        "  print('Prec:',precision_score(yt,yp))\n",
        "  print('Recall',recall_score(yt,yp))\n",
        "  print('ROC:',roc_auc_score(yt,yp))\n",
        "  print('-'*10)\n",
        "\n",
        "X_train[list].head()"
      ],
      "execution_count": 23,
      "outputs": [
        {
          "output_type": "execute_result",
          "data": {
            "text/html": [
              "<div>\n",
              "<style scoped>\n",
              "    .dataframe tbody tr th:only-of-type {\n",
              "        vertical-align: middle;\n",
              "    }\n",
              "\n",
              "    .dataframe tbody tr th {\n",
              "        vertical-align: top;\n",
              "    }\n",
              "\n",
              "    .dataframe thead th {\n",
              "        text-align: right;\n",
              "    }\n",
              "</style>\n",
              "<table border=\"1\" class=\"dataframe\">\n",
              "  <thead>\n",
              "    <tr style=\"text-align: right;\">\n",
              "      <th></th>\n",
              "      <th>category</th>\n",
              "      <th>merchant</th>\n",
              "      <th>browserid_encode</th>\n",
              "      <th>devid_encode</th>\n",
              "      <th>countrycode_encode</th>\n",
              "      <th>day_encode</th>\n",
              "      <th>hour</th>\n",
              "      <th>dev_bro_encode</th>\n",
              "    </tr>\n",
              "  </thead>\n",
              "  <tbody>\n",
              "    <tr>\n",
              "      <th>7668472</th>\n",
              "      <td>3037</td>\n",
              "      <td>62689217</td>\n",
              "      <td>0.006046</td>\n",
              "      <td>0.067100</td>\n",
              "      <td>0.007446</td>\n",
              "      <td>0.039249</td>\n",
              "      <td>16</td>\n",
              "      <td>0.007053</td>\n",
              "    </tr>\n",
              "    <tr>\n",
              "      <th>9104856</th>\n",
              "      <td>72276</td>\n",
              "      <td>28017207</td>\n",
              "      <td>0.006046</td>\n",
              "      <td>0.067100</td>\n",
              "      <td>0.182963</td>\n",
              "      <td>0.030834</td>\n",
              "      <td>17</td>\n",
              "      <td>0.007053</td>\n",
              "    </tr>\n",
              "    <tr>\n",
              "      <th>2807256</th>\n",
              "      <td>40339</td>\n",
              "      <td>43452411</td>\n",
              "      <td>0.006046</td>\n",
              "      <td>0.038330</td>\n",
              "      <td>0.018674</td>\n",
              "      <td>0.041442</td>\n",
              "      <td>14</td>\n",
              "      <td>0.005000</td>\n",
              "    </tr>\n",
              "    <tr>\n",
              "      <th>11480474</th>\n",
              "      <td>45620</td>\n",
              "      <td>90174279</td>\n",
              "      <td>0.007528</td>\n",
              "      <td>0.005541</td>\n",
              "      <td>0.018061</td>\n",
              "      <td>0.041442</td>\n",
              "      <td>12</td>\n",
              "      <td>0.002710</td>\n",
              "    </tr>\n",
              "    <tr>\n",
              "      <th>9353226</th>\n",
              "      <td>53956</td>\n",
              "      <td>69514806</td>\n",
              "      <td>0.007528</td>\n",
              "      <td>0.005541</td>\n",
              "      <td>0.018674</td>\n",
              "      <td>0.041442</td>\n",
              "      <td>17</td>\n",
              "      <td>0.002710</td>\n",
              "    </tr>\n",
              "  </tbody>\n",
              "</table>\n",
              "</div>"
            ],
            "text/plain": [
              "          category  merchant  ...  hour  dev_bro_encode\n",
              "7668472       3037  62689217  ...    16        0.007053\n",
              "9104856      72276  28017207  ...    17        0.007053\n",
              "2807256      40339  43452411  ...    14        0.005000\n",
              "11480474     45620  90174279  ...    12        0.002710\n",
              "9353226      53956  69514806  ...    17        0.002710\n",
              "\n",
              "[5 rows x 8 columns]"
            ]
          },
          "metadata": {
            "tags": []
          },
          "execution_count": 23
        }
      ]
    },
    {
      "cell_type": "code",
      "metadata": {
        "id": "cWv9YWx0dCUl",
        "colab_type": "code",
        "colab": {
          "base_uri": "https://localhost:8080/",
          "height": 195
        },
        "outputId": "22eeb5f6-73d5-4ab5-e9c8-e941deeb5f7c"
      },
      "source": [
        "#MinMax scaling required since category and merchants have large values\n",
        "normalizer = MinMaxScaler()\n",
        "num_columns = ['category', 'merchant']\n",
        "normalizer.fit(X_train[num_columns])\n",
        "X_train[num_columns] = normalizer.transform(X_train[num_columns])\n",
        "X_test[num_columns] = normalizer.transform(X_test[num_columns])\n",
        "\n",
        "X_train[list].head()"
      ],
      "execution_count": 26,
      "outputs": [
        {
          "output_type": "execute_result",
          "data": {
            "text/html": [
              "<div>\n",
              "<style scoped>\n",
              "    .dataframe tbody tr th:only-of-type {\n",
              "        vertical-align: middle;\n",
              "    }\n",
              "\n",
              "    .dataframe tbody tr th {\n",
              "        vertical-align: top;\n",
              "    }\n",
              "\n",
              "    .dataframe thead th {\n",
              "        text-align: right;\n",
              "    }\n",
              "</style>\n",
              "<table border=\"1\" class=\"dataframe\">\n",
              "  <thead>\n",
              "    <tr style=\"text-align: right;\">\n",
              "      <th></th>\n",
              "      <th>category</th>\n",
              "      <th>merchant</th>\n",
              "      <th>browserid_encode</th>\n",
              "      <th>devid_encode</th>\n",
              "      <th>countrycode_encode</th>\n",
              "      <th>day_encode</th>\n",
              "      <th>hour</th>\n",
              "      <th>dev_bro_encode</th>\n",
              "    </tr>\n",
              "  </thead>\n",
              "  <tbody>\n",
              "    <tr>\n",
              "      <th>7668472</th>\n",
              "      <td>0.029454</td>\n",
              "      <td>0.627362</td>\n",
              "      <td>0.006046</td>\n",
              "      <td>0.067100</td>\n",
              "      <td>0.007446</td>\n",
              "      <td>0.039249</td>\n",
              "      <td>16</td>\n",
              "      <td>0.007053</td>\n",
              "    </tr>\n",
              "    <tr>\n",
              "      <th>9104856</th>\n",
              "      <td>0.723113</td>\n",
              "      <td>0.278934</td>\n",
              "      <td>0.006046</td>\n",
              "      <td>0.067100</td>\n",
              "      <td>0.182963</td>\n",
              "      <td>0.030834</td>\n",
              "      <td>17</td>\n",
              "      <td>0.007053</td>\n",
              "    </tr>\n",
              "    <tr>\n",
              "      <th>2807256</th>\n",
              "      <td>0.403158</td>\n",
              "      <td>0.434047</td>\n",
              "      <td>0.006046</td>\n",
              "      <td>0.038330</td>\n",
              "      <td>0.018674</td>\n",
              "      <td>0.041442</td>\n",
              "      <td>14</td>\n",
              "      <td>0.005000</td>\n",
              "    </tr>\n",
              "    <tr>\n",
              "      <th>11480474</th>\n",
              "      <td>0.456065</td>\n",
              "      <td>0.903566</td>\n",
              "      <td>0.007528</td>\n",
              "      <td>0.005541</td>\n",
              "      <td>0.018061</td>\n",
              "      <td>0.041442</td>\n",
              "      <td>12</td>\n",
              "      <td>0.002710</td>\n",
              "    </tr>\n",
              "    <tr>\n",
              "      <th>9353226</th>\n",
              "      <td>0.539577</td>\n",
              "      <td>0.695954</td>\n",
              "      <td>0.007528</td>\n",
              "      <td>0.005541</td>\n",
              "      <td>0.018674</td>\n",
              "      <td>0.041442</td>\n",
              "      <td>17</td>\n",
              "      <td>0.002710</td>\n",
              "    </tr>\n",
              "  </tbody>\n",
              "</table>\n",
              "</div>"
            ],
            "text/plain": [
              "          category  merchant  ...  hour  dev_bro_encode\n",
              "7668472   0.029454  0.627362  ...    16        0.007053\n",
              "9104856   0.723113  0.278934  ...    17        0.007053\n",
              "2807256   0.403158  0.434047  ...    14        0.005000\n",
              "11480474  0.456065  0.903566  ...    12        0.002710\n",
              "9353226   0.539577  0.695954  ...    17        0.002710\n",
              "\n",
              "[5 rows x 8 columns]"
            ]
          },
          "metadata": {
            "tags": []
          },
          "execution_count": 26
        }
      ]
    },
    {
      "cell_type": "code",
      "metadata": {
        "id": "Fb7ncH8-cAoh",
        "colab_type": "code",
        "colab": {
          "base_uri": "https://localhost:8080/",
          "height": 252
        },
        "outputId": "26bd6c9f-83f4-4980-d69b-e34b477a9a44"
      },
      "source": [
        "#Logistic Regression:Got good result for ROC_AUC score but precision goes for a toss\n",
        "lr=LogisticRegression(class_weight='balanced')\n",
        "lr.fit(X_train[list],y_train)\n",
        "y_pred=lr.predict(X_test[list])\n",
        "y_train_pred=lr.predict(X_train[list])\n",
        "print('Testing params')\n",
        "params(y_test,y_pred)\n",
        "print('Training params')\n",
        "params(y_train,y_train_pred)"
      ],
      "execution_count": 27,
      "outputs": [
        {
          "output_type": "stream",
          "text": [
            "Testing params\n",
            "Accuracy: 0.8641492852925426\n",
            "F1score: 0.32450294953026004\n",
            "Prec: 0.19752963276977042\n",
            "Recall 0.9084792415322273\n",
            "ROC: 0.8854884813467617\n",
            "----------\n",
            "Training params\n",
            "Accuracy: 0.8637879775812515\n",
            "F1score: 0.3249337953079247\n",
            "Prec: 0.19773393629180538\n",
            "Recall 0.9109134316643228\n",
            "ROC: 0.8864710748177902\n",
            "----------\n"
          ],
          "name": "stdout"
        }
      ]
    },
    {
      "cell_type": "code",
      "metadata": {
        "id": "i-mPH_QZciS6",
        "colab_type": "code",
        "colab": {
          "base_uri": "https://localhost:8080/",
          "height": 403
        },
        "outputId": "af825eee-2072-42ec-dee1-51f8292ae40b"
      },
      "source": [
        "#Random Forest:Precision is still suffering\n",
        "rfc=RandomForestClassifier(class_weight='balanced',max_depth=4,n_estimators=100)\n",
        "rfc.fit(X_train[list],y_train)\n",
        "y_pred_rf=rfc.predict(X_test[list])\n",
        "y_train_pred_rf=rfc.predict(X_train[list])\n",
        "print('Test')\n",
        "params(y_test,y_pred_rf)\n",
        "print('Train')\n",
        "params(y_train,y_train_pred_rf)\n",
        "print(classification_report(y_test,y_pred_rf))"
      ],
      "execution_count": 28,
      "outputs": [
        {
          "output_type": "stream",
          "text": [
            "Test\n",
            "Accuracy: 0.884674639900037\n",
            "F1score: 0.3596328036841624\n",
            "Prec: 0.22461380216766033\n",
            "Recall 0.9015979814970564\n",
            "ROC: 0.8928210613013744\n",
            "----------\n",
            "Train\n",
            "Accuracy: 0.8836280050750548\n",
            "F1score: 0.3585418545357822\n",
            "Prec: 0.22363309701854908\n",
            "Recall 0.903718481211368\n",
            "ROC: 0.8932982402504026\n",
            "----------\n",
            "              precision    recall  f1-score   support\n",
            "\n",
            "           0       1.00      0.88      0.94    351056\n",
            "           1       0.22      0.90      0.36     13079\n",
            "\n",
            "   micro avg       0.88      0.88      0.88    364135\n",
            "   macro avg       0.61      0.89      0.65    364135\n",
            "weighted avg       0.97      0.88      0.92    364135\n",
            "\n"
          ],
          "name": "stdout"
        }
      ]
    },
    {
      "cell_type": "code",
      "metadata": {
        "id": "No3VcJU3d6ud",
        "colab_type": "code",
        "colab": {
          "base_uri": "https://localhost:8080/",
          "height": 403
        },
        "outputId": "33471a6b-477f-421a-fc2a-3bc9181bfca8"
      },
      "source": [
        "#Using Xgboost to improve precision\n",
        "model = XGBClassifier()\n",
        "model.fit(X_train[list], y_train)\n",
        "y_pred_xg = model.predict(X_test[list])\n",
        "y_train_xg = model.predict(X_train[list])\n",
        "print('Test')\n",
        "params(y_test,y_pred_xg)\n",
        "print('Train')\n",
        "params(y_train,y_train_xg)\n",
        "print(classification_report(y_test,y_pred_xg))"
      ],
      "execution_count": 29,
      "outputs": [
        {
          "output_type": "stream",
          "text": [
            "Test\n",
            "Accuracy: 0.9785134634132945\n",
            "F1score: 0.6876646706586825\n",
            "Prec: 0.7194887645142427\n",
            "Recall 0.6585365853658537\n",
            "ROC: 0.8244855799533339\n",
            "----------\n",
            "Train\n",
            "Accuracy: 0.9784616181327283\n",
            "F1score: 0.6883833395770188\n",
            "Prec: 0.7180716899356994\n",
            "Recall 0.6610524250253459\n",
            "ROC: 0.8256816878145096\n",
            "----------\n",
            "              precision    recall  f1-score   support\n",
            "\n",
            "           0       0.99      0.99      0.99    351056\n",
            "           1       0.72      0.66      0.69     13079\n",
            "\n",
            "   micro avg       0.98      0.98      0.98    364135\n",
            "   macro avg       0.85      0.82      0.84    364135\n",
            "weighted avg       0.98      0.98      0.98    364135\n",
            "\n"
          ],
          "name": "stdout"
        }
      ]
    },
    {
      "cell_type": "code",
      "metadata": {
        "id": "xDF0RTmPepHx",
        "colab_type": "code",
        "colab": {}
      },
      "source": [
        ""
      ],
      "execution_count": 0,
      "outputs": []
    }
  ]
}